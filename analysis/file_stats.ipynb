{
 "cells": [
  {
   "cell_type": "code",
   "execution_count": 18,
   "metadata": {},
   "outputs": [],
   "source": [
    "import pandas as pd\n",
    "import csv\n",
    "import re\n",
    "import os\n",
    "import random\n",
    "import numpy as np"
   ]
  },
  {
   "cell_type": "code",
   "execution_count": 2,
   "metadata": {},
   "outputs": [
    {
     "data": {
      "text/plain": [
       "'d:\\\\github_personal\\\\EnglishVocabularyMountain\\\\analysis'"
      ]
     },
     "execution_count": 2,
     "metadata": {},
     "output_type": "execute_result"
    }
   ],
   "source": [
    "os.getcwd()"
   ]
  },
  {
   "cell_type": "code",
   "execution_count": 3,
   "metadata": {},
   "outputs": [],
   "source": [
    "data = pd.read_excel(f'd:\\\\github_personal\\\\EnglishVocabularyMountain\\\\src\\\\assets\\\\vocab-data\\\\Clean Magoosh 1000 Words.xlsx')"
   ]
  },
  {
   "cell_type": "code",
   "execution_count": 4,
   "metadata": {},
   "outputs": [
    {
     "data": {
      "text/html": [
       "<div>\n",
       "<style scoped>\n",
       "    .dataframe tbody tr th:only-of-type {\n",
       "        vertical-align: middle;\n",
       "    }\n",
       "\n",
       "    .dataframe tbody tr th {\n",
       "        vertical-align: top;\n",
       "    }\n",
       "\n",
       "    .dataframe thead th {\n",
       "        text-align: right;\n",
       "    }\n",
       "</style>\n",
       "<table border=\"1\" class=\"dataframe\">\n",
       "  <thead>\n",
       "    <tr style=\"text-align: right;\">\n",
       "      <th></th>\n",
       "      <th>Word</th>\n",
       "      <th>Definition</th>\n",
       "      <th>PoS</th>\n",
       "      <th>Example</th>\n",
       "    </tr>\n",
       "  </thead>\n",
       "  <tbody>\n",
       "    <tr>\n",
       "      <th>count</th>\n",
       "      <td>1066</td>\n",
       "      <td>1066</td>\n",
       "      <td>1066</td>\n",
       "      <td>1066</td>\n",
       "    </tr>\n",
       "    <tr>\n",
       "      <th>unique</th>\n",
       "      <td>997</td>\n",
       "      <td>1039</td>\n",
       "      <td>4</td>\n",
       "      <td>1064</td>\n",
       "    </tr>\n",
       "    <tr>\n",
       "      <th>top</th>\n",
       "      <td>savvy</td>\n",
       "      <td>a trite or obvious remark.</td>\n",
       "      <td>adjective</td>\n",
       "      <td>This word has other definitions but this is th...</td>\n",
       "    </tr>\n",
       "    <tr>\n",
       "      <th>freq</th>\n",
       "      <td>3</td>\n",
       "      <td>3</td>\n",
       "      <td>541</td>\n",
       "      <td>2</td>\n",
       "    </tr>\n",
       "  </tbody>\n",
       "</table>\n",
       "</div>"
      ],
      "text/plain": [
       "         Word                  Definition        PoS  \\\n",
       "count    1066                        1066       1066   \n",
       "unique    997                        1039          4   \n",
       "top     savvy  a trite or obvious remark.  adjective   \n",
       "freq        3                           3        541   \n",
       "\n",
       "                                                  Example  \n",
       "count                                                1066  \n",
       "unique                                               1064  \n",
       "top     This word has other definitions but this is th...  \n",
       "freq                                                    2  "
      ]
     },
     "execution_count": 4,
     "metadata": {},
     "output_type": "execute_result"
    }
   ],
   "source": [
    "\n",
    "data.describe()"
   ]
  },
  {
   "cell_type": "code",
   "execution_count": 5,
   "metadata": {},
   "outputs": [
    {
     "data": {
      "text/html": [
       "<div>\n",
       "<style scoped>\n",
       "    .dataframe tbody tr th:only-of-type {\n",
       "        vertical-align: middle;\n",
       "    }\n",
       "\n",
       "    .dataframe tbody tr th {\n",
       "        vertical-align: top;\n",
       "    }\n",
       "\n",
       "    .dataframe thead th {\n",
       "        text-align: right;\n",
       "    }\n",
       "</style>\n",
       "<table border=\"1\" class=\"dataframe\">\n",
       "  <thead>\n",
       "    <tr style=\"text-align: right;\">\n",
       "      <th></th>\n",
       "      <th>Word</th>\n",
       "      <th>Definition</th>\n",
       "      <th>PoS</th>\n",
       "      <th>Example</th>\n",
       "    </tr>\n",
       "  </thead>\n",
       "  <tbody>\n",
       "    <tr>\n",
       "      <th>212</th>\n",
       "      <td>munificent</td>\n",
       "      <td>very generous.</td>\n",
       "      <td>adjective</td>\n",
       "      <td>Uncle Charley was known for his munificence, g...</td>\n",
       "    </tr>\n",
       "    <tr>\n",
       "      <th>1052</th>\n",
       "      <td>unstinting</td>\n",
       "      <td>very generous.</td>\n",
       "      <td>adjective</td>\n",
       "      <td>Helen is unstinting with her time, often spend...</td>\n",
       "    </tr>\n",
       "  </tbody>\n",
       "</table>\n",
       "</div>"
      ],
      "text/plain": [
       "            Word      Definition        PoS  \\\n",
       "212   munificent  very generous.  adjective   \n",
       "1052  unstinting  very generous.  adjective   \n",
       "\n",
       "                                                Example  \n",
       "212   Uncle Charley was known for his munificence, g...  \n",
       "1052  Helen is unstinting with her time, often spend...  "
      ]
     },
     "execution_count": 5,
     "metadata": {},
     "output_type": "execute_result"
    }
   ],
   "source": [
    "# data[data['Definition'].duplicated()]\n",
    "data[data['Definition']=='very generous.']\n"
   ]
  },
  {
   "cell_type": "code",
   "execution_count": 6,
   "metadata": {},
   "outputs": [],
   "source": [
    "data['StartingCharacterOfWord'] = data['Word'].apply(lambda x: x.lstrip()[0].lower())"
   ]
  },
  {
   "cell_type": "code",
   "execution_count": 7,
   "metadata": {},
   "outputs": [
    {
     "data": {
      "text/plain": [
       "array(['a', 'b', 'c', 'd', 'e', 'f', 'g', 'h', 'i', 'j', 'l', 'm', 'n',\n",
       "       'o', 'p', 'q', 'r', 's', 't', 'u', 'v', 'w', 'z', 'k'],\n",
       "      dtype=object)"
      ]
     },
     "execution_count": 7,
     "metadata": {},
     "output_type": "execute_result"
    }
   ],
   "source": [
    "data['StartingCharacterOfWord'].unique()"
   ]
  },
  {
   "cell_type": "code",
   "execution_count": 8,
   "metadata": {},
   "outputs": [
    {
     "data": {
      "text/plain": [
       "StartingCharacterOfWord\n",
       "p    113\n",
       "a    103\n",
       "c    101\n",
       "i     95\n",
       "d     87\n",
       "e     84\n",
       "s     73\n",
       "m     56\n",
       "b     53\n",
       "r     46\n",
       "t     41\n",
       "f     37\n",
       "u     26\n",
       "v     26\n",
       "h     25\n",
       "g     25\n",
       "o     19\n",
       "l     19\n",
       "j     12\n",
       "q     10\n",
       "n      7\n",
       "w      5\n",
       "z      2\n",
       "k      1\n",
       "Name: count, dtype: int64"
      ]
     },
     "execution_count": 8,
     "metadata": {},
     "output_type": "execute_result"
    }
   ],
   "source": [
    "data['StartingCharacterOfWord'].value_counts()"
   ]
  },
  {
   "cell_type": "code",
   "execution_count": 9,
   "metadata": {},
   "outputs": [
    {
     "data": {
      "text/html": [
       "<div>\n",
       "<style scoped>\n",
       "    .dataframe tbody tr th:only-of-type {\n",
       "        vertical-align: middle;\n",
       "    }\n",
       "\n",
       "    .dataframe tbody tr th {\n",
       "        vertical-align: top;\n",
       "    }\n",
       "\n",
       "    .dataframe thead th {\n",
       "        text-align: right;\n",
       "    }\n",
       "</style>\n",
       "<table border=\"1\" class=\"dataframe\">\n",
       "  <thead>\n",
       "    <tr style=\"text-align: right;\">\n",
       "      <th></th>\n",
       "      <th>Word</th>\n",
       "      <th>Definition</th>\n",
       "      <th>PoS</th>\n",
       "      <th>Example</th>\n",
       "      <th>StartingCharacterOfWord</th>\n",
       "    </tr>\n",
       "  </thead>\n",
       "  <tbody>\n",
       "    <tr>\n",
       "      <th>906</th>\n",
       "      <td>kowtow</td>\n",
       "      <td>to bow or act in a subservient manner.</td>\n",
       "      <td>verb</td>\n",
       "      <td>Paul kowtowed to his boss so often the boss he...</td>\n",
       "      <td>k</td>\n",
       "    </tr>\n",
       "  </tbody>\n",
       "</table>\n",
       "</div>"
      ],
      "text/plain": [
       "       Word                              Definition   PoS  \\\n",
       "906  kowtow  to bow or act in a subservient manner.  verb   \n",
       "\n",
       "                                               Example StartingCharacterOfWord  \n",
       "906  Paul kowtowed to his boss so often the boss he...                       k  "
      ]
     },
     "execution_count": 9,
     "metadata": {},
     "output_type": "execute_result"
    }
   ],
   "source": [
    "data[data['StartingCharacterOfWord']=='k']"
   ]
  },
  {
   "cell_type": "code",
   "execution_count": 12,
   "metadata": {},
   "outputs": [],
   "source": [
    "data = data.sort_values(by=['StartingCharacterOfWord', 'Word']).reset_index(drop=True)"
   ]
  },
  {
   "cell_type": "code",
   "execution_count": 13,
   "metadata": {},
   "outputs": [
    {
     "data": {
      "text/html": [
       "<div>\n",
       "<style scoped>\n",
       "    .dataframe tbody tr th:only-of-type {\n",
       "        vertical-align: middle;\n",
       "    }\n",
       "\n",
       "    .dataframe tbody tr th {\n",
       "        vertical-align: top;\n",
       "    }\n",
       "\n",
       "    .dataframe thead th {\n",
       "        text-align: right;\n",
       "    }\n",
       "</style>\n",
       "<table border=\"1\" class=\"dataframe\">\n",
       "  <thead>\n",
       "    <tr style=\"text-align: right;\">\n",
       "      <th></th>\n",
       "      <th>Word</th>\n",
       "      <th>Definition</th>\n",
       "      <th>PoS</th>\n",
       "      <th>Example</th>\n",
       "      <th>StartingCharacterOfWord</th>\n",
       "    </tr>\n",
       "  </thead>\n",
       "  <tbody>\n",
       "    <tr>\n",
       "      <th>0</th>\n",
       "      <td>aberrant</td>\n",
       "      <td>markedly different from an accepted norm.</td>\n",
       "      <td>adjective</td>\n",
       "      <td>When the financial director started screaming ...</td>\n",
       "      <td>a</td>\n",
       "    </tr>\n",
       "    <tr>\n",
       "      <th>1</th>\n",
       "      <td>aberration</td>\n",
       "      <td>a deviation from what is normal or expected.</td>\n",
       "      <td>noun</td>\n",
       "      <td>Aberrations in climate have become the norm: r...</td>\n",
       "      <td>a</td>\n",
       "    </tr>\n",
       "    <tr>\n",
       "      <th>2</th>\n",
       "      <td>abjure</td>\n",
       "      <td>formally reject or give up (as a belief).</td>\n",
       "      <td>verb</td>\n",
       "      <td>While the church believed that Galileo abjured...</td>\n",
       "      <td>a</td>\n",
       "    </tr>\n",
       "    <tr>\n",
       "      <th>3</th>\n",
       "      <td>aboveboard</td>\n",
       "      <td>open and honest.</td>\n",
       "      <td>adjective</td>\n",
       "      <td>The mayor, despite his avuncular face plastere...</td>\n",
       "      <td>a</td>\n",
       "    </tr>\n",
       "    <tr>\n",
       "      <th>4</th>\n",
       "      <td>abrogate</td>\n",
       "      <td>revoke formally.</td>\n",
       "      <td>verb</td>\n",
       "      <td>As part of the agreement between the labor uni...</td>\n",
       "      <td>a</td>\n",
       "    </tr>\n",
       "  </tbody>\n",
       "</table>\n",
       "</div>"
      ],
      "text/plain": [
       "         Word                                    Definition        PoS  \\\n",
       "0    aberrant     markedly different from an accepted norm.  adjective   \n",
       "1  aberration  a deviation from what is normal or expected.       noun   \n",
       "2      abjure     formally reject or give up (as a belief).       verb   \n",
       "3  aboveboard                              open and honest.  adjective   \n",
       "4    abrogate                              revoke formally.       verb   \n",
       "\n",
       "                                             Example StartingCharacterOfWord  \n",
       "0  When the financial director started screaming ...                       a  \n",
       "1  Aberrations in climate have become the norm: r...                       a  \n",
       "2  While the church believed that Galileo abjured...                       a  \n",
       "3  The mayor, despite his avuncular face plastere...                       a  \n",
       "4  As part of the agreement between the labor uni...                       a  "
      ]
     },
     "execution_count": 13,
     "metadata": {},
     "output_type": "execute_result"
    }
   ],
   "source": [
    "data.head()"
   ]
  },
  {
   "cell_type": "code",
   "execution_count": 25,
   "metadata": {},
   "outputs": [
    {
     "data": {
      "text/plain": [
       "((1066, 6), 35.53333333333333, 33.233333333333334)"
      ]
     },
     "execution_count": 25,
     "metadata": {},
     "output_type": "execute_result"
    }
   ],
   "source": [
    "data.shape, data.shape[0]/30, len(data['Word'].unique())/30"
   ]
  },
  {
   "cell_type": "markdown",
   "metadata": {},
   "source": [
    "# Grouping logic\n",
    "- 35 words per day - Totalling of approximately 30 days\n",
    "- Each day must contain A-Z starting characters\n",
    "- Words have to be grouped and should be considered as 1 word with different PoS `Part of Speech` \n",
    "\n",
    "\n",
    "\n",
    "\n"
   ]
  },
  {
   "cell_type": "code",
   "execution_count": 21,
   "metadata": {},
   "outputs": [
    {
     "data": {
      "text/plain": [
       "RandomId\n",
       "860    1066\n",
       "Name: count, dtype: int64"
      ]
     },
     "execution_count": 21,
     "metadata": {},
     "output_type": "execute_result"
    }
   ],
   "source": [
    "\n"
   ]
  },
  {
   "cell_type": "code",
   "execution_count": null,
   "metadata": {},
   "outputs": [],
   "source": []
  }
 ],
 "metadata": {
  "kernelspec": {
   "display_name": "Python 3 (ipykernel)",
   "language": "python",
   "name": "python3"
  },
  "language_info": {
   "codemirror_mode": {
    "name": "ipython",
    "version": 3
   },
   "file_extension": ".py",
   "mimetype": "text/x-python",
   "name": "python",
   "nbconvert_exporter": "python",
   "pygments_lexer": "ipython3",
   "version": "3.11.8"
  }
 },
 "nbformat": 4,
 "nbformat_minor": 2
}
